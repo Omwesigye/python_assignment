{
 "cells": [
  {
   "cell_type": "code",
   "execution_count": 2,
   "id": "96d532bb",
   "metadata": {},
   "outputs": [
    {
     "name": "stdout",
     "output_type": "stream",
     "text": [
      "I love data science\n"
     ]
    }
   ],
   "source": [
    "print(\"I love data science\")"
   ]
  },
  {
   "cell_type": "code",
   "execution_count": 4,
   "id": "238c3827",
   "metadata": {},
   "outputs": [],
   "source": [
    "#reading and writing files\n",
    "#opening a file in readmode\n",
    "file = open(\"omwe.txt\", \"r\")"
   ]
  },
  {
   "cell_type": "code",
   "execution_count": 5,
   "id": "e59e4fcc",
   "metadata": {},
   "outputs": [
    {
     "name": "stdout",
     "output_type": "stream",
     "text": [
      "working with files in data science\n"
     ]
    }
   ],
   "source": [
    "content = file.read()\n",
    "print(content)\n",
    "file.close()"
   ]
  },
  {
   "cell_type": "code",
   "execution_count": 11,
   "id": "5f2180d7",
   "metadata": {},
   "outputs": [],
   "source": [
    "#writing to a file\n",
    "with open(\"omwe.txt\",\"w\") as file:\n",
    "    file.write(\"hello, this is a new line in the file.\\n\")\n",
    "with open(\"omwe.txt\",\"a\") as file:\n",
    "    file.write(\"\\n appending a new line to a file\")\n",
    "\n"
   ]
  },
  {
   "cell_type": "markdown",
   "id": "5d49e256",
   "metadata": {},
   "source": []
  }
 ],
 "metadata": {
  "kernelspec": {
   "display_name": "base",
   "language": "python",
   "name": "python3"
  },
  "language_info": {
   "codemirror_mode": {
    "name": "ipython",
    "version": 3
   },
   "file_extension": ".py",
   "mimetype": "text/x-python",
   "name": "python",
   "nbconvert_exporter": "python",
   "pygments_lexer": "ipython3",
   "version": "3.12.7"
  }
 },
 "nbformat": 4,
 "nbformat_minor": 5
}
