{
 "cells": [
  {
   "cell_type": "code",
   "execution_count": 3,
   "id": "54102150",
   "metadata": {},
   "outputs": [],
   "source": [
    "import pandas as pd\n",
    "import numpy as np \n"
   ]
  },
  {
   "cell_type": "code",
   "execution_count": 4,
   "id": "df549a23",
   "metadata": {},
   "outputs": [],
   "source": [
    "df = pd.read_csv('AfricaCupofNationsMatches.csv')"
   ]
  },
  {
   "cell_type": "code",
   "execution_count": 5,
   "id": "1490a470",
   "metadata": {},
   "outputs": [
    {
     "data": {
      "text/html": [
       "<div>\n",
       "<style scoped>\n",
       "    .dataframe tbody tr th:only-of-type {\n",
       "        vertical-align: middle;\n",
       "    }\n",
       "\n",
       "    .dataframe tbody tr th {\n",
       "        vertical-align: top;\n",
       "    }\n",
       "\n",
       "    .dataframe thead th {\n",
       "        text-align: right;\n",
       "    }\n",
       "</style>\n",
       "<table border=\"1\" class=\"dataframe\">\n",
       "  <thead>\n",
       "    <tr style=\"text-align: right;\">\n",
       "      <th></th>\n",
       "      <th>Year</th>\n",
       "      <th>Date</th>\n",
       "      <th>Time</th>\n",
       "      <th>HomeTeam</th>\n",
       "      <th>AwayTeam</th>\n",
       "      <th>HomeTeamGoals</th>\n",
       "      <th>AwayTeamGoals</th>\n",
       "      <th>Stage</th>\n",
       "      <th>SpecialWinConditions</th>\n",
       "      <th>Stadium</th>\n",
       "      <th>City</th>\n",
       "      <th>Attendance</th>\n",
       "    </tr>\n",
       "  </thead>\n",
       "  <tbody>\n",
       "    <tr>\n",
       "      <th>0</th>\n",
       "      <td>1957</td>\n",
       "      <td>10-Feb-57</td>\n",
       "      <td>NaN</td>\n",
       "      <td>Sudan</td>\n",
       "      <td>Egypt</td>\n",
       "      <td>1.0</td>\n",
       "      <td>2.0</td>\n",
       "      <td>Semifinals</td>\n",
       "      <td>NaN</td>\n",
       "      <td>Municipal Stadium</td>\n",
       "      <td>Khartoum</td>\n",
       "      <td>30000.0</td>\n",
       "    </tr>\n",
       "    <tr>\n",
       "      <th>1</th>\n",
       "      <td>1957</td>\n",
       "      <td>10-Feb-57</td>\n",
       "      <td>NaN</td>\n",
       "      <td>Ethiopia</td>\n",
       "      <td>South Africa</td>\n",
       "      <td>NaN</td>\n",
       "      <td>NaN</td>\n",
       "      <td>Semifinals</td>\n",
       "      <td>Ethiopia  wins due to disqualification of othe...</td>\n",
       "      <td>NaN</td>\n",
       "      <td>NaN</td>\n",
       "      <td>NaN</td>\n",
       "    </tr>\n",
       "    <tr>\n",
       "      <th>2</th>\n",
       "      <td>1957</td>\n",
       "      <td>16-Feb-57</td>\n",
       "      <td>NaN</td>\n",
       "      <td>Egypt</td>\n",
       "      <td>Ethiopia</td>\n",
       "      <td>4.0</td>\n",
       "      <td>0.0</td>\n",
       "      <td>Final</td>\n",
       "      <td>NaN</td>\n",
       "      <td>Municipal Stadium</td>\n",
       "      <td>Khartoum</td>\n",
       "      <td>30000.0</td>\n",
       "    </tr>\n",
       "    <tr>\n",
       "      <th>3</th>\n",
       "      <td>1959</td>\n",
       "      <td>22-May-59</td>\n",
       "      <td>NaN</td>\n",
       "      <td>Egypt</td>\n",
       "      <td>Ethiopia</td>\n",
       "      <td>4.0</td>\n",
       "      <td>0.0</td>\n",
       "      <td>Final Tournament</td>\n",
       "      <td>NaN</td>\n",
       "      <td>Prince Farouk Stadium</td>\n",
       "      <td>Cairo</td>\n",
       "      <td>30000.0</td>\n",
       "    </tr>\n",
       "    <tr>\n",
       "      <th>4</th>\n",
       "      <td>1959</td>\n",
       "      <td>25-May-59</td>\n",
       "      <td>NaN</td>\n",
       "      <td>Sudan</td>\n",
       "      <td>Ethiopia</td>\n",
       "      <td>1.0</td>\n",
       "      <td>0.0</td>\n",
       "      <td>Final Tournament</td>\n",
       "      <td>NaN</td>\n",
       "      <td>Prince Farouk Stadium</td>\n",
       "      <td>Cairo</td>\n",
       "      <td>20000.0</td>\n",
       "    </tr>\n",
       "    <tr>\n",
       "      <th>5</th>\n",
       "      <td>1959</td>\n",
       "      <td>29-May-59</td>\n",
       "      <td>NaN</td>\n",
       "      <td>Egypt</td>\n",
       "      <td>Sudan</td>\n",
       "      <td>2.0</td>\n",
       "      <td>1.0</td>\n",
       "      <td>Final Tournament</td>\n",
       "      <td>NaN</td>\n",
       "      <td>Prince Farouk Stadium</td>\n",
       "      <td>Cairo</td>\n",
       "      <td>30000.0</td>\n",
       "    </tr>\n",
       "    <tr>\n",
       "      <th>6</th>\n",
       "      <td>1962</td>\n",
       "      <td>14-Jan-62</td>\n",
       "      <td>NaN</td>\n",
       "      <td>Ethiopia</td>\n",
       "      <td>Tunisia</td>\n",
       "      <td>4.0</td>\n",
       "      <td>2.0</td>\n",
       "      <td>Semifinals</td>\n",
       "      <td>NaN</td>\n",
       "      <td>Hailé Sélassié Stadium</td>\n",
       "      <td>Addis Ababa</td>\n",
       "      <td>30000.0</td>\n",
       "    </tr>\n",
       "  </tbody>\n",
       "</table>\n",
       "</div>"
      ],
      "text/plain": [
       "   Year      Date  Time    HomeTeam       AwayTeam  HomeTeamGoals  \\\n",
       "0  1957  10-Feb-57   NaN     Sudan           Egypt            1.0   \n",
       "1  1957  10-Feb-57   NaN  Ethiopia    South Africa            NaN   \n",
       "2  1957  16-Feb-57   NaN     Egypt        Ethiopia            4.0   \n",
       "3  1959  22-May-59   NaN      Egypt       Ethiopia            4.0   \n",
       "4  1959  25-May-59   NaN     Sudan        Ethiopia            1.0   \n",
       "5  1959  29-May-59   NaN      Egypt          Sudan            2.0   \n",
       "6  1962  14-Jan-62   NaN  Ethiopia         Tunisia            4.0   \n",
       "\n",
       "   AwayTeamGoals             Stage  \\\n",
       "0            2.0        Semifinals   \n",
       "1            NaN        Semifinals   \n",
       "2            0.0             Final   \n",
       "3            0.0  Final Tournament   \n",
       "4            0.0  Final Tournament   \n",
       "5            1.0  Final Tournament   \n",
       "6            2.0        Semifinals   \n",
       "\n",
       "                                SpecialWinConditions                 Stadium  \\\n",
       "0                                                NaN       Municipal Stadium   \n",
       "1  Ethiopia  wins due to disqualification of othe...                     NaN   \n",
       "2                                                NaN       Municipal Stadium   \n",
       "3                                                NaN   Prince Farouk Stadium   \n",
       "4                                                NaN   Prince Farouk Stadium   \n",
       "5                                                NaN   Prince Farouk Stadium   \n",
       "6                                                NaN  Hailé Sélassié Stadium   \n",
       "\n",
       "           City  Attendance  \n",
       "0      Khartoum     30000.0  \n",
       "1           NaN         NaN  \n",
       "2      Khartoum     30000.0  \n",
       "3         Cairo     30000.0  \n",
       "4         Cairo     20000.0  \n",
       "5         Cairo     30000.0  \n",
       "6   Addis Ababa     30000.0  "
      ]
     },
     "execution_count": 5,
     "metadata": {},
     "output_type": "execute_result"
    }
   ],
   "source": [
    "df.head(7)"
   ]
  },
  {
   "cell_type": "code",
   "execution_count": 6,
   "id": "3ea821ed",
   "metadata": {},
   "outputs": [
    {
     "name": "stdout",
     "output_type": "stream",
     "text": [
      "        HomeTeam       AwayTeam  HomeTeamGoals  AwayTeamGoals\n",
      "0         Sudan           Egypt            1.0            2.0\n",
      "1      Ethiopia    South Africa            NaN            NaN\n",
      "2         Egypt        Ethiopia            4.0            0.0\n",
      "3          Egypt       Ethiopia            4.0            0.0\n",
      "4         Sudan        Ethiopia            1.0            0.0\n",
      "..           ...            ...            ...            ...\n",
      "617  Madagascar         Tunisia            0.0            3.0\n",
      "618     Senegal         Tunisia            1.0            0.0\n",
      "619     Algeria         Nigeria            2.0            1.0\n",
      "620     Tunisia         Nigeria            0.0            1.0\n",
      "621     Senegal         Algeria            0.0            1.0\n",
      "\n",
      "[622 rows x 4 columns]\n"
     ]
    }
   ],
   "source": [
    "df_subset = df[['HomeTeam', 'AwayTeam', 'HomeTeamGoals', 'AwayTeamGoals']]\n",
    "print(df_subset)\n"
   ]
  },
  {
   "cell_type": "code",
   "execution_count": 7,
   "id": "d0d3302f",
   "metadata": {},
   "outputs": [
    {
     "name": "stdout",
     "output_type": "stream",
     "text": [
      "    Year      Date  Time    HomeTeam   AwayTeam  HomeTeamGoals  AwayTeamGoals  \\\n",
      "3   1959  22-May-59   NaN      Egypt   Ethiopia            4.0            0.0   \n",
      "5   1959  29-May-59   NaN      Egypt      Sudan            2.0            1.0   \n",
      "7   1962  18-Jan-62   NaN      Egypt     Uganda            2.0            1.0   \n",
      "9   1962  21-Jan-62   NaN  Ethiopia       Egypt            4.0            2.0   \n",
      "13  1963  24-Nov-63   NaN      Egypt    Nigeria            6.0            3.0   \n",
      "14  1963  26-Nov-63   NaN      Egypt      Sudan            2.0            2.0   \n",
      "16  1963  30-Nov-63   NaN      Egypt   Ethiopia            3.0            0.0   \n",
      "\n",
      "                Stage    SpecialWinConditions                 Stadium  \\\n",
      "3    Final Tournament                     NaN   Prince Farouk Stadium   \n",
      "5    Final Tournament                     NaN   Prince Farouk Stadium   \n",
      "7          Semifinals                     NaN  Hailé Sélassié Stadium   \n",
      "9               Final   win after extra time   Hailé Sélassié Stadium   \n",
      "13            Group B                     NaN   Kumasi Sports Stadium   \n",
      "14            Group B                     NaN   Kumasi Sports Stadium   \n",
      "16  Third place match                     NaN    Accra Sports Stadium   \n",
      "\n",
      "            City  Attendance  \n",
      "3          Cairo     30000.0  \n",
      "5          Cairo     30000.0  \n",
      "7    Addis Ababa     30000.0  \n",
      "9    Addis Ababa         NaN  \n",
      "13        Kumasi         NaN  \n",
      "14        Kumasi         NaN  \n",
      "16         Accra         NaN  \n"
     ]
    }
   ],
   "source": [
    "df_egypt = df[(df['HomeTeam'] == 'Egypt') | (df['AwayTeam'] == 'Egypt')]\n",
    "print(df_egypt)\n"
   ]
  },
  {
   "cell_type": "code",
   "execution_count": 8,
   "id": "47aff3dc",
   "metadata": {},
   "outputs": [
    {
     "name": "stdout",
     "output_type": "stream",
     "text": [
      "Rows: 622\n",
      "Columns: 12\n"
     ]
    }
   ],
   "source": [
    "print(\"Rows:\", df.shape[0])\n",
    "print(\"Columns:\", df.shape[1])\n"
   ]
  },
  {
   "cell_type": "code",
   "execution_count": 10,
   "id": "ad88ffb9",
   "metadata": {},
   "outputs": [
    {
     "name": "stdout",
     "output_type": "stream",
     "text": [
      "     Year                         Date   Time        HomeTeam       AwayTeam  \\\n",
      "1    1957                     10-Feb-57    NaN      Ethiopia    South Africa   \n",
      "8    1962                     20-Jan-62    NaN       Tunisia          Uganda   \n",
      "9    1962                     21-Jan-62    NaN      Ethiopia           Egypt   \n",
      "10   1963                     24-Nov-63    NaN         Ghana         Tunisia   \n",
      "11   1963                     26-Nov-63    NaN         Ghana        Ethiopia   \n",
      "..    ...                           ...    ...            ...            ...   \n",
      "565  2017  29 January 2017 (2017-01-29)  20:00         Egypt         Morocco   \n",
      "566  2017  1 February 2017 (2017-02-01)  20:00  Burkina Faso           Egypt   \n",
      "567  2017  2 February 2017 (2017-02-02)  20:00      Cameroon           Ghana   \n",
      "568  2017  4 February 2017 (2017-02-04)  20:00  Burkina Faso           Ghana   \n",
      "569  2017  5 February 2017 (2017-02-05)  20:00         Egypt        Cameroon   \n",
      "\n",
      "     HomeTeamGoals  AwayTeamGoals                 Stage  \\\n",
      "1              NaN            NaN            Semifinals   \n",
      "8              3.0            0.0     Third place match   \n",
      "9              4.0            2.0                 Final   \n",
      "10             1.0            1.0               Group A   \n",
      "11             2.0            0.0               Group A   \n",
      "..             ...            ...                   ...   \n",
      "565            1.0            0.0        Quarter-finals   \n",
      "566            1.0            1.0           Semi-finals   \n",
      "567            2.0            0.0           Semi-finals   \n",
      "568            1.0            0.0  Third place play-off   \n",
      "569            1.0            2.0                 Final   \n",
      "\n",
      "                                  SpecialWinConditions  \\\n",
      "1    Ethiopia  wins due to disqualification of othe...   \n",
      "8                                                  NaN   \n",
      "9                                win after extra time    \n",
      "10                                                 NaN   \n",
      "11                                                 NaN   \n",
      "..                                                 ...   \n",
      "565                                                NaN   \n",
      "566                        Egypt win on Penalities 3-4   \n",
      "567                                                NaN   \n",
      "568                                                NaN   \n",
      "569                                                NaN   \n",
      "\n",
      "                    Stadium          City  Attendance  \n",
      "1                       NaN           NaN         NaN  \n",
      "8    Hailé Sélassié Stadium   Addis Ababa         NaN  \n",
      "9    Hailé Sélassié Stadium   Addis Ababa         NaN  \n",
      "10     Accra Sports Stadium         Accra         NaN  \n",
      "11     Accra Sports Stadium         Accra         NaN  \n",
      "..                      ...           ...         ...  \n",
      "565    Stade de Port-Gentil   Port-Gentil         NaN  \n",
      "566       Stade de l'Amitié    Libreville         NaN  \n",
      "567    Stade de Franceville   Franceville         NaN  \n",
      "568    Stade de Port-Gentil   Port-Gentil         NaN  \n",
      "569       Stade de l'Amitié    Libreville         NaN  \n",
      "\n",
      "[100 rows x 12 columns]\n"
     ]
    }
   ],
   "source": [
    "missing_attendance = df[df['Attendance'].isna()]\n",
    "print(missing_attendance)\n"
   ]
  },
  {
   "cell_type": "code",
   "execution_count": 9,
   "id": "18cde534",
   "metadata": {},
   "outputs": [
    {
     "name": "stdout",
     "output_type": "stream",
     "text": [
      "     Year                         Date   Time    HomeTeam     AwayTeam  \\\n",
      "2    1957                     16-Feb-57    NaN     Egypt      Ethiopia   \n",
      "3    1959                     22-May-59    NaN      Egypt     Ethiopia   \n",
      "6    1962                     14-Jan-62    NaN  Ethiopia       Tunisia   \n",
      "8    1962                     20-Jan-62    NaN   Tunisia        Uganda   \n",
      "9    1962                     21-Jan-62    NaN  Ethiopia         Egypt   \n",
      "..    ...                           ...    ...        ...          ...   \n",
      "553  2017  20 January 2017 (2017-01-20)  20:00   Morocco          Togo   \n",
      "585  2019     27 June 2019 (2019-06-27)  22:00     Kenya      Tanzania   \n",
      "595  2019     24 June 2019 (2019-06-24)  22:00      Mali    Mauritania   \n",
      "608  2019      6 July 2019 (2019-07-06)  18:00   Nigeria      Cameroon   \n",
      "611  2019      7 July 2019 (2019-07-07)  21:00   Algeria        Guinea   \n",
      "\n",
      "     HomeTeamGoals  AwayTeamGoals              Stage    SpecialWinConditions  \\\n",
      "2              4.0            0.0              Final                     NaN   \n",
      "3              4.0            0.0   Final Tournament                     NaN   \n",
      "6              4.0            2.0         Semifinals                     NaN   \n",
      "8              3.0            0.0  Third place match                     NaN   \n",
      "9              4.0            2.0              Final   win after extra time    \n",
      "..             ...            ...                ...                     ...   \n",
      "553            3.0            1.0            Group C                     NaN   \n",
      "585            3.0            2.0            Group C                     NaN   \n",
      "595            4.0            1.0            Group E                     NaN   \n",
      "608            3.0            2.0        Round of 16                     NaN   \n",
      "611            3.0            0.0        Round of 16                     NaN   \n",
      "\n",
      "                    Stadium          City  Attendance  \n",
      "2         Municipal Stadium      Khartoum     30000.0  \n",
      "3     Prince Farouk Stadium         Cairo     30000.0  \n",
      "6    Hailé Sélassié Stadium   Addis Ababa     30000.0  \n",
      "8    Hailé Sélassié Stadium   Addis Ababa         NaN  \n",
      "9    Hailé Sélassié Stadium   Addis Ababa         NaN  \n",
      "..                      ...           ...         ...  \n",
      "553            Stade d'Oyem          Oyem         NaN  \n",
      "585         30 June Stadium         Cairo      7233.0  \n",
      "595            Suez Stadium          Suez      6202.0  \n",
      "608      Alexandria Stadium    Alexandria     10000.0  \n",
      "611         30 June Stadium         Cairo      8205.0  \n",
      "\n",
      "[138 rows x 12 columns]\n"
     ]
    }
   ],
   "source": [
    "df_goals = df[df['HomeTeamGoals'].between(3, 6)]\n",
    "print(df_goals)\n"
   ]
  },
  {
   "cell_type": "code",
   "execution_count": 15,
   "id": "9d2bdecb",
   "metadata": {},
   "outputs": [
    {
     "name": "stdout",
     "output_type": "stream",
     "text": [
      "0       2.0\n",
      "1       NaN\n",
      "2      10.0\n",
      "3       0.0\n",
      "4       0.0\n",
      "       ... \n",
      "617     3.0\n",
      "618     0.0\n",
      "619     1.0\n",
      "620     1.0\n",
      "621     1.0\n",
      "Name: AwayTeamGoals, Length: 622, dtype: float64\n"
     ]
    }
   ],
   "source": [
    "df.at[2, 'AwayTeamGoals'] = 10\n",
    "print(df['AwayTeamGoals'])"
   ]
  },
  {
   "cell_type": "code",
   "execution_count": 10,
   "id": "4d5f99b3",
   "metadata": {},
   "outputs": [
    {
     "name": "stdout",
     "output_type": "stream",
     "text": [
      "     Year                         Date           Time    HomeTeam  \\\n",
      "205  1990                      2-Mar-90            NaN   Algeria    \n",
      "29   1968                     14-Jan-68            NaN   Algeria    \n",
      "135  1980                     16-Mar-80            NaN   Algeria    \n",
      "164  1984                      5-Mar-84            NaN   Algeria    \n",
      "171  1984                     17-Mar-84            NaN   Algeria    \n",
      "..    ...                           ...            ...        ...   \n",
      "521  2012                     12-Feb-12  20:30[note 1]    Zambia    \n",
      "549  2017  23 January 2017 (2017-01-23)          20:00  Zimbabwe    \n",
      "398  2004                     25-Jan-04          16:30  Zimbabwe    \n",
      "437  2006                     23-Jan-06          20:00  Zimbabwe    \n",
      "575  2019     30 June 2019 (2019-06-30)          21:00  Zimbabwe    \n",
      "\n",
      "         AwayTeam  HomeTeamGoals  AwayTeamGoals              Stage  \\\n",
      "205       Nigeria            5.0            1.0            Group A   \n",
      "29         Uganda            4.0            0.0            Group A   \n",
      "135        Guinea            3.0            2.0            Group B   \n",
      "164        Malawi            3.0            0.0            Group B   \n",
      "171         Egypt            3.0            1.0  Third place match   \n",
      "..            ...            ...            ...                ...   \n",
      "521   Ivory Coast            0.0            0.0              Final   \n",
      "549       Tunisia            2.0            4.0            Group B   \n",
      "398         Egypt            1.0            2.0            Group C   \n",
      "437       Senegal            0.0            2.0            Group D   \n",
      "575      DR Congo            0.0            4.0            Group A   \n",
      "\n",
      "              SpecialWinConditions                       Stadium  \\\n",
      "205                            NaN          Stade 5 Juillet 1962   \n",
      "29                             NaN        Hailé Sélassié Stadium   \n",
      "135                            NaN               Liberty Stadium   \n",
      "164                            NaN                  Stade Bouaké   \n",
      "171                            NaN  Stade Félix Houphouët-Boigny   \n",
      "..                             ...                           ...   \n",
      "521  Zambia  win on Penalities 8-7              Stade d'Angondjé   \n",
      "549                            NaN             Stade de l'Amitié   \n",
      "398                            NaN          Stade Taïeb El Mhiri   \n",
      "437                            NaN             Port Said Stadium   \n",
      "575                            NaN               30 June Stadium   \n",
      "\n",
      "             City  Attendance  \n",
      "205       Algiers     85000.0  \n",
      "29    Addis Ababa     25000.0  \n",
      "135        Ibadan     20000.0  \n",
      "164        Bouaké     10000.0  \n",
      "171       Abidjan       500.0  \n",
      "..            ...         ...  \n",
      "521    Libreville     40000.0  \n",
      "549    Libreville         NaN  \n",
      "398          Sfax     22000.0  \n",
      "437     Port Said     15000.0  \n",
      "575         Cairo      4364.0  \n",
      "\n",
      "[622 rows x 12 columns]\n"
     ]
    }
   ],
   "source": [
    "df_sorted = df.sort_values(by=['HomeTeam', 'HomeTeamGoals'], ascending=[True, False])\n",
    "print(df_sorted)\n"
   ]
  },
  {
   "cell_type": "code",
   "execution_count": 16,
   "id": "28d12804",
   "metadata": {},
   "outputs": [
    {
     "name": "stdout",
     "output_type": "stream",
     "text": [
      "['Year', 'Date ', 'Time ', 'HomeTeam', 'AwayTeam', 'HomeTeamGoals', 'AwayTeamGoals', 'Stage', 'SpecialWinConditions', 'Stadium', 'City', 'Attendance', 'NewColumn']\n"
     ]
    }
   ],
   "source": [
    "column_list = list(df.columns)\n",
    "print(column_list)\n"
   ]
  },
  {
   "cell_type": "code",
   "execution_count": null,
   "id": "baa89a54",
   "metadata": {},
   "outputs": [
    {
     "name": "stdout",
     "output_type": "stream",
     "text": [
      "True\n"
     ]
    }
   ],
   "source": [
    "has_stadium = 'Stadium' in df.columns\n",
    "print( has_stadium)\n"
   ]
  },
  {
   "cell_type": "code",
   "execution_count": 25,
   "id": "662d2c46",
   "metadata": {},
   "outputs": [
    {
     "name": "stdout",
     "output_type": "stream",
     "text": [
      "float64\n"
     ]
    }
   ],
   "source": [
    "df['AwayTeamGoals'] = df['AwayTeamGoals'].astype(float)\n",
    "print( df.dtypes['AwayTeamGoals'])"
   ]
  },
  {
   "cell_type": "code",
   "execution_count": 27,
   "id": "3403d41d",
   "metadata": {},
   "outputs": [
    {
     "name": "stdout",
     "output_type": "stream",
     "text": [
      "     Year                      Date   Time      HomeTeam AwayTeam  \\\n",
      "597  2019  29 June 2019 (2019-06-29)  16:30  Mauritania      None   \n",
      "598  2019   2 July 2019 (2019-07-02)  21:00  Mauritania      None   \n",
      "599  2019   2 July 2019 (2019-07-02)  21:00      Angola      None   \n",
      "600  2019  25 June 2019 (2019-06-25)  19:00    Cameroon      None   \n",
      "601  2019  25 June 2019 (2019-06-25)  22:00       Ghana      None   \n",
      "\n",
      "     HomeTeamGoals  AwayTeamGoals    Stage SpecialWinConditions  \\\n",
      "597            0.0            0.0  Group E                  NaN   \n",
      "598            0.0            0.0  Group E                  NaN   \n",
      "599            0.0            1.0  Group E                  NaN   \n",
      "600            2.0            0.0  Group F                  NaN   \n",
      "601            2.0            2.0  Group F                  NaN   \n",
      "\n",
      "              Stadium       City  Attendance        NewColumn  \n",
      "597      Suez Stadium       Suez     10120.0  goal_difference  \n",
      "598      Suez Stadium       Suez      7732.0  goal_difference  \n",
      "599  Ismailia Stadium   Ismailia      8135.0  goal_difference  \n",
      "600  Ismailia Stadium   Ismailia      5983.0  goal_difference  \n",
      "601  Ismailia Stadium   Ismailia      8094.0  goal_difference  \n"
     ]
    }
   ],
   "source": [
    "df = df[:-10]\n",
    "print( df.tail())"
   ]
  },
  {
   "cell_type": "code",
   "execution_count": 28,
   "id": "934c2551",
   "metadata": {},
   "outputs": [
    {
     "name": "stdout",
     "output_type": "stream",
     "text": [
      "         NewColumn  Attendance       City                Stadium  \\\n",
      "0  goal_difference     30000.0   Khartoum      Municipal Stadium   \n",
      "1  goal_difference         NaN        NaN                    NaN   \n",
      "2  goal_difference     30000.0   Khartoum      Municipal Stadium   \n",
      "3  goal_difference     30000.0      Cairo  Prince Farouk Stadium   \n",
      "4  goal_difference     20000.0      Cairo  Prince Farouk Stadium   \n",
      "\n",
      "                                SpecialWinConditions             Stage  \\\n",
      "0                                                NaN        Semifinals   \n",
      "1  Ethiopia  wins due to disqualification of othe...        Semifinals   \n",
      "2                                                NaN             Final   \n",
      "3                                                NaN  Final Tournament   \n",
      "4                                                NaN  Final Tournament   \n",
      "\n",
      "   AwayTeamGoals  HomeTeamGoals AwayTeam   HomeTeam Time       Date   Year  \n",
      "0            2.0            1.0     None     Sudan    NaN  10-Feb-57  1957  \n",
      "1            NaN            NaN     None  Ethiopia    NaN  10-Feb-57  1957  \n",
      "2            0.0            4.0     None     Egypt    NaN  16-Feb-57  1957  \n",
      "3            0.0            4.0     None      Egypt   NaN  22-May-59  1959  \n",
      "4            0.0            1.0     None     Sudan    NaN  25-May-59  1959  \n"
     ]
    }
   ],
   "source": [
    "df = df[df.columns[::-1]]\n",
    "print( df.head())"
   ]
  }
 ],
 "metadata": {
  "kernelspec": {
   "display_name": "base",
   "language": "python",
   "name": "python3"
  },
  "language_info": {
   "codemirror_mode": {
    "name": "ipython",
    "version": 3
   },
   "file_extension": ".py",
   "mimetype": "text/x-python",
   "name": "python",
   "nbconvert_exporter": "python",
   "pygments_lexer": "ipython3",
   "version": "3.12.7"
  }
 },
 "nbformat": 4,
 "nbformat_minor": 5
}
