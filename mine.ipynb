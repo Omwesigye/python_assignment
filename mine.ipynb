{
 "cells": [
  {
   "cell_type": "code",
   "execution_count": 3,
   "id": "f195ef93",
   "metadata": {},
   "outputs": [
    {
     "name": "stdout",
     "output_type": "stream",
     "text": [
      "   Duration         Date  Pulse  Maxpulse  Calories\n",
      "0        60  2023/10/01'  110.0     130.0     409.1\n",
      "1        60  2023/10/02'  117.0     145.0     479.0\n",
      "2        60  2023/10/03'  103.0     135.0     340.3\n",
      "3        45  2023/10/04'  109.0     175.0     282.4\n",
      "4        45  2023/10/05'  117.0     150.0     405.1\n"
     ]
    }
   ],
   "source": [
    "import pandas as pd\n",
    "df = pd.read_csv('Mine.csv')\n",
    "print(df.head())"
   ]
  },
  {
   "cell_type": "code",
   "execution_count": 4,
   "id": "8ac4dba8",
   "metadata": {},
   "outputs": [
    {
     "name": "stdout",
     "output_type": "stream",
     "text": [
      "   Duration         Date  Pulse  Maxpulse  Calories\n",
      "0        60  2023/10/01'  110.0     130.0     409.1\n",
      "1        60  2023/10/02'  117.0     145.0     479.0\n",
      "2        60  2023/10/03'  103.0     135.0     340.3\n",
      "3        45  2023/10/04'  109.0     175.0     282.4\n",
      "4        45  2023/10/05'  117.0     150.0     405.1\n"
     ]
    }
   ],
   "source": [
    "#duplicate rows\n",
    "df = df.drop_duplicates()\n",
    "print(df.head())"
   ]
  },
  {
   "cell_type": "code",
   "execution_count": 5,
   "id": "ad2a1464",
   "metadata": {},
   "outputs": [
    {
     "name": "stdout",
     "output_type": "stream",
     "text": [
      "Duration    0\n",
      "Date        2\n",
      "Pulse       1\n",
      "Maxpulse    2\n",
      "Calories    4\n",
      "dtype: int64\n"
     ]
    }
   ],
   "source": [
    "#missing values\n",
    "missing = df.isnull().sum()\n",
    "print(missing)"
   ]
  },
  {
   "cell_type": "code",
   "execution_count": 6,
   "id": "ea97795c",
   "metadata": {},
   "outputs": [
    {
     "name": "stdout",
     "output_type": "stream",
     "text": [
      "Duration    0\n",
      "Date        0\n",
      "Pulse       0\n",
      "Maxpulse    0\n",
      "Calories    0\n",
      "dtype: int64\n"
     ]
    }
   ],
   "source": [
    "df = df.dropna()\n",
    "print(df.isnull().sum())"
   ]
  },
  {
   "cell_type": "code",
   "execution_count": 7,
   "id": "b6392146",
   "metadata": {},
   "outputs": [
    {
     "name": "stdout",
     "output_type": "stream",
     "text": [
      "0   2023-10-01\n",
      "1   2023-10-02\n",
      "2   2023-10-03\n",
      "3   2023-10-04\n",
      "4   2023-10-05\n",
      "Name: Date, dtype: datetime64[ns]\n"
     ]
    }
   ],
   "source": [
    "#clean date column\n",
    "df['Date'] = df['Date'].astype(str).str.replace(\"'\", \"\").str.strip()\n",
    "df['Date'] = pd.to_datetime(df['Date'], errors='coerce')\n",
    "df = df.dropna(subset=['Date'])\n",
    "print(df['Date'].head())\n",
    "\n"
   ]
  },
  {
   "cell_type": "code",
   "execution_count": 9,
   "id": "2099ff18",
   "metadata": {},
   "outputs": [],
   "source": [
    "#missing values\n",
    "df['Pulse'] = df['Pulse'].fillna(df['Pulse'].median())\n",
    "df['Maxpulse'] = df['Maxpulse'].fillna(df['Maxpulse'].median())\n",
    "df['Calories'] = df['Calories'].fillna(df['Calories'].median())"
   ]
  },
  {
   "cell_type": "code",
   "execution_count": 10,
   "id": "c53d64c1",
   "metadata": {},
   "outputs": [],
   "source": [
    "#remove unrealistic durations\n",
    "df = df[(df['Duration'] > 0) & (df['Duration'] < 300)]\n"
   ]
  },
  {
   "cell_type": "code",
   "execution_count": 13,
   "id": "644be807",
   "metadata": {},
   "outputs": [
    {
     "name": "stdout",
     "output_type": "stream",
     "text": [
      "   Duration       Date  Pulse  Maxpulse  Calories\n",
      "0        60 2023-10-01  110.0     130.0     409.1\n",
      "1        60 2023-10-02  117.0     145.0     479.0\n",
      "2        60 2023-10-03  103.0     135.0     340.3\n",
      "3        45 2023-10-04  109.0     175.0     282.4\n",
      "4        45 2023-10-05  117.0     150.0     405.1\n",
      "5        60 2023-10-06  103.0     125.0     300.0\n",
      "6        60 2023-10-07  110.0     135.0     374.0\n",
      "7        60 2023-10-09  112.0     126.0     193.8\n",
      "8        30 2023-10-10  102.0     147.0     234.8\n",
      "9        60 2023-10-11  100.0     129.0     375.3\n"
     ]
    }
   ],
   "source": [
    "df = df.reset_index(drop=True)\n",
    "print(df.head(10))\n",
    "df.to_csv(\"cleaned_mine.csv\", index=False)\n"
   ]
  }
 ],
 "metadata": {
  "kernelspec": {
   "display_name": "base",
   "language": "python",
   "name": "python3"
  },
  "language_info": {
   "codemirror_mode": {
    "name": "ipython",
    "version": 3
   },
   "file_extension": ".py",
   "mimetype": "text/x-python",
   "name": "python",
   "nbconvert_exporter": "python",
   "pygments_lexer": "ipython3",
   "version": "3.12.7"
  }
 },
 "nbformat": 4,
 "nbformat_minor": 5
}
