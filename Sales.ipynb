{
 "cells": [
  {
   "cell_type": "code",
   "execution_count": 2,
   "id": "d522b823",
   "metadata": {},
   "outputs": [
    {
     "name": "stdout",
     "output_type": "stream",
     "text": [
      "   Order ID  Customer Name   Order Date   Product  Quantity  Unit Price  \\\n",
      "0      1001       John Doe   01/01/2024  Widget A      10.0        25.0   \n",
      "1      1002     Jane Smith   01/02/2024  Widget B       5.0        40.0   \n",
      "2      1003            NaN  2024/01/03'  Widget A       NaN        25.0   \n",
      "3      1004  Alice Johnson   04/01/2024  Widget C       3.0         NaN   \n",
      "4      1005      Bob Brown  2024/01/05'  Widget B      10.0        40.0   \n",
      "\n",
      "   Total Revenue  \n",
      "0          250.0  \n",
      "1          200.0  \n",
      "2            NaN  \n",
      "3          210.0  \n",
      "4          400.0  \n"
     ]
    }
   ],
   "source": [
    "import pandas as pd\n",
    "df = pd.read_csv(\"Sales.csv\")\n",
    "print(df.head())"
   ]
  },
  {
   "cell_type": "code",
   "execution_count": 3,
   "id": "7cf26aed",
   "metadata": {},
   "outputs": [
    {
     "name": "stdout",
     "output_type": "stream",
     "text": [
      "   Order ID  Customer Name   Order Date   Product  Quantity  Unit Price  \\\n",
      "0      1001       John Doe   01/01/2024  Widget A      10.0        25.0   \n",
      "1      1002     Jane Smith   01/02/2024  Widget B       5.0        40.0   \n",
      "2      1003            NaN  2024/01/03'  Widget A       NaN        25.0   \n",
      "3      1004  Alice Johnson   04/01/2024  Widget C       3.0         NaN   \n",
      "4      1005      Bob Brown  2024/01/05'  Widget B      10.0        40.0   \n",
      "\n",
      "   Total Revenue  \n",
      "0          250.0  \n",
      "1          200.0  \n",
      "2            NaN  \n",
      "3          210.0  \n",
      "4          400.0  \n"
     ]
    }
   ],
   "source": [
    "#duplicate rows\n",
    "df = df.drop_duplicates()\n",
    "print(df.head())"
   ]
  },
  {
   "cell_type": "code",
   "execution_count": 5,
   "id": "3854d0cc",
   "metadata": {},
   "outputs": [
    {
     "name": "stdout",
     "output_type": "stream",
     "text": [
      "Order ID         0\n",
      "Customer Name    1\n",
      "Order Date       2\n",
      "Product          0\n",
      "Quantity         1\n",
      "Unit Price       1\n",
      "Total Revenue    1\n",
      "dtype: int64\n"
     ]
    }
   ],
   "source": [
    "#missing values\n",
    "missing = df.isnull().sum()\n",
    "print(missing)"
   ]
  },
  {
   "cell_type": "code",
   "execution_count": 6,
   "id": "d57d7c99",
   "metadata": {},
   "outputs": [
    {
     "name": "stdout",
     "output_type": "stream",
     "text": [
      "Order ID         0\n",
      "Customer Name    0\n",
      "Order Date       0\n",
      "Product          0\n",
      "Quantity         0\n",
      "Unit Price       0\n",
      "Total Revenue    0\n",
      "dtype: int64\n"
     ]
    }
   ],
   "source": [
    "df = df.dropna()\n",
    "print(df.isnull().sum())"
   ]
  },
  {
   "cell_type": "code",
   "execution_count": 7,
   "id": "cf1d0acd",
   "metadata": {},
   "outputs": [
    {
     "name": "stdout",
     "output_type": "stream",
     "text": [
      "  Order Date\n",
      "0 2024-01-01\n",
      "1 2024-01-02\n",
      "5 2024-06-01\n",
      "7 2024-07-01\n"
     ]
    }
   ],
   "source": [
    "\n",
    "print(df[['Order Date']].head(10))"
   ]
  },
  {
   "cell_type": "code",
   "execution_count": 9,
   "id": "a5466d16",
   "metadata": {},
   "outputs": [
    {
     "name": "stdout",
     "output_type": "stream",
     "text": [
      "0   2024-01-01\n",
      "1   2024-01-02\n",
      "5   2024-06-01\n",
      "7   2024-07-01\n",
      "Name: Order Date, dtype: datetime64[ns]\n"
     ]
    }
   ],
   "source": [
    "df['Order Date'] = df['Order Date'].astype(str).str.replace(\"'\", \"\").str.strip()\n",
    "df['Order Date'] = pd.to_datetime(df['Order Date'], errors='coerce')\n",
    "df = df.dropna(subset=['Order Date'])\n",
    "print(df['Order Date'].head())\n"
   ]
  },
  {
   "cell_type": "code",
   "execution_count": 10,
   "id": "350bc942",
   "metadata": {},
   "outputs": [
    {
     "name": "stdout",
     "output_type": "stream",
     "text": [
      "   Order ID Customer Name Order Date   Product  Quantity  Unit Price  \\\n",
      "7      1007    Jane Smith 2024-07-01  Widget C      -6.0        70.0   \n",
      "\n",
      "   Total Revenue  \n",
      "7         -420.0  \n",
      "Empty DataFrame\n",
      "Columns: [Order ID, Customer Name, Order Date, Product, Quantity, Unit Price, Total Revenue]\n",
      "Index: []\n"
     ]
    }
   ],
   "source": [
    "#wrong data\n",
    "wrong_quantities = df[df['Quantity'] <= 0]\n",
    "wrong_prices = df[df['Unit Price'] <= 0]\n",
    "print(wrong_quantities)\n",
    "print(wrong_prices)\n"
   ]
  },
  {
   "cell_type": "code",
   "execution_count": 14,
   "id": "89056d7d",
   "metadata": {},
   "outputs": [
    {
     "name": "stdout",
     "output_type": "stream",
     "text": [
      "   Order ID Customer Name Order Date   Product  Quantity  Unit Price  \\\n",
      "0      1001      John Doe 2024-01-01  Widget A      10.0        25.0   \n",
      "1      1002    Jane Smith 2024-01-02  Widget B       5.0        40.0   \n",
      "5      1006      John Doe 2024-06-01  Widget A       4.0        25.0   \n",
      "\n",
      "   Total Revenue  \n",
      "0          250.0  \n",
      "1          200.0  \n",
      "5          100.0  \n"
     ]
    }
   ],
   "source": [
    "df = df[(df['Quantity'] > 0) & (df['Unit Price'] > 0)]\n",
    "print(df.head())"
   ]
  },
  {
   "cell_type": "code",
   "execution_count": 16,
   "id": "f250a3a5",
   "metadata": {},
   "outputs": [
    {
     "name": "stdout",
     "output_type": "stream",
     "text": [
      "['Order ID', 'Customer Name', 'Order Date', 'Product', 'Quantity', 'Unit Price', 'Total Revenue']\n"
     ]
    }
   ],
   "source": [
    "#unnecessary columns\n",
    "print(df.columns.tolist())\n"
   ]
  },
  {
   "cell_type": "code",
   "execution_count": 17,
   "id": "294ca361",
   "metadata": {},
   "outputs": [
    {
     "name": "stdout",
     "output_type": "stream",
     "text": [
      "   Order ID Customer Name Order Date   Product  Quantity  Unit Price  \\\n",
      "0      1001      John Doe 2024-01-01  Widget A      10.0        25.0   \n",
      "1      1002    Jane Smith 2024-01-02  Widget B       5.0        40.0   \n",
      "5      1006      John Doe 2024-06-01  Widget A       4.0        25.0   \n",
      "\n",
      "   Total Revenue  \n",
      "0          250.0  \n",
      "1          200.0  \n",
      "5          100.0  \n"
     ]
    }
   ],
   "source": [
    "print(df.head())"
   ]
  },
  {
   "cell_type": "code",
   "execution_count": 18,
   "id": "09b07238",
   "metadata": {},
   "outputs": [],
   "source": [
    "df.to_csv(\"cleaned_sales.csv\", index=False)"
   ]
  }
 ],
 "metadata": {
  "kernelspec": {
   "display_name": "base",
   "language": "python",
   "name": "python3"
  },
  "language_info": {
   "codemirror_mode": {
    "name": "ipython",
    "version": 3
   },
   "file_extension": ".py",
   "mimetype": "text/x-python",
   "name": "python",
   "nbconvert_exporter": "python",
   "pygments_lexer": "ipython3",
   "version": "3.12.7"
  }
 },
 "nbformat": 4,
 "nbformat_minor": 5
}
